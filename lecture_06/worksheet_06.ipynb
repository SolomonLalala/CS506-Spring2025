{
 "cells": [
  {
   "attachments": {},
   "cell_type": "markdown",
   "metadata": {},
   "source": [
    "# Worksheet"
   ]
  },
  {
   "cell_type": "markdown",
   "metadata": {},
   "source": [
    "### Hierarchical Clustering\n",
    "\n",
    "Using the following dataset:\n",
    "\n",
    "| Point | x | y |\n",
    "|-------|---|---|\n",
    "| A     | 0 | 0 |\n",
    "| B     | 1 | 1 |\n",
    "| C     | 3 | 0 |\n",
    "| D     | 0 | 1 |\n",
    "| E     | 2 | 2 |\n",
    "\n",
    "with\n",
    "\n",
    "d = Euclidean  \n",
    "D = Single-Link\n",
    "\n",
    "produce the distance matrix at every step of the hierarchical clustering algorithm."
   ]
  },
  {
   "cell_type": "markdown",
   "metadata": {},
   "source": [
    "Step 1\n",
    "\n",
    "|   | A | B | C | D | E |\n",
    "|---|---|---|---|---|---|\n",
    "| A | 0 | 1.4 | 3 | 1 | 2.8 |\n",
    "| B | 1.4  | 0 | 2.23  | 1  | 1.4  |\n",
    "| C |  3 |  2.23 | 0 | 3.16  |2.23   |\n",
    "| D |  1 |  1 | 3.16   | 0 | 2.23  |\n",
    "| E | 2.8  | 1.4  | 2.23  | 2.23  | 0 |"
   ]
  },
  {
   "cell_type": "markdown",
   "metadata": {},
   "source": [
    "Step 2\n",
    "\n",
    "|  |  B  |  C |  E | AD  |\n",
    "|---|---|---|---|---|\n",
    "| B  | 0 |2.2   | 1.4  | 1  |\n",
    "|  C | 2.2  | 0 | 2.2  | 3  |\n",
    "| E  | 1.4  | 2.2  | 0 | 2.2  |\n",
    "|  AD | 1  | 3  | 2.2  | 0 |"
   ]
  },
  {
   "cell_type": "markdown",
   "metadata": {},
   "source": [
    "Step 3\n",
    "\n",
    "|   | C  | E  | ABD  |\n",
    "|---|---|---|---|\n",
    "| C  | 0 | 2.2  |2.2   |\n",
    "| E  | 2.2  | 0 | 1.4  |\n",
    "| ABD  | 2.2  | 1.4  | 0 |"
   ]
  },
  {
   "cell_type": "markdown",
   "metadata": {},
   "source": [
    "Step 4\n",
    "\n",
    "|   | C  | ABDE  |\n",
    "|---|---|---|\n",
    "|  C | 0 |2.2   |\n",
    "|  ABDE |2.2   | 0 |"
   ]
  },
  {
   "cell_type": "markdown",
   "metadata": {},
   "source": [
    "Repeat the above with\n",
    "\n",
    "d = Euclidean  \n",
    "D = Complete-Link"
   ]
  },
  {
   "cell_type": "markdown",
   "metadata": {},
   "source": [
    "Step 1\n",
    "\n",
    "|   | A | B | C | D | E |\n",
    "|---|---|---|---|---|---|\n",
    "| A | 0 | 1.4 | 3 | 1 | 2.8 |\n",
    "| B | 1.4  | 0 | 2.23  | 1  | 1.4  |\n",
    "| C |  3 |  2.23 | 0 | 3.16  |2.23   |\n",
    "| D |  1 |  1 | 3.16   | 0 | 2.23  |\n",
    "| E | 2.8  | 1.4  | 2.23  | 2.23  | 0 |"
   ]
  },
  {
   "cell_type": "markdown",
   "metadata": {},
   "source": [
    "Step 2\n",
    "\n",
    "|   | B  | C  | E  | AD  |\n",
    "|---|---|---|---|---|\n",
    "| B  | 0 |2.2   | 1.4  | 1.4  |\n",
    "| C |2.2   | 0 | 2.2  | 3.16  |\n",
    "| E | 1.4  | 2.2  | 0 | 2.8  |\n",
    "| AD  | 1.4  | 3.16  | 2.8  | 0 |"
   ]
  },
  {
   "cell_type": "markdown",
   "metadata": {},
   "source": [
    "Step 3\n",
    "\n",
    "|   | C | E | ABD |\n",
    "|---|---|---|---|\n",
    "| C | 0 | 2.2  | 3.16  |\n",
    "| E |  2.2 | 0 | 2.8  |\n",
    "| ABD | 3.16  |2.8   | 0 |"
   ]
  },
  {
   "cell_type": "markdown",
   "metadata": {},
   "source": [
    "Step 4\n",
    "\n",
    "|   | C  | ABDE  |\n",
    "|---|---|---|\n",
    "| C  | 0 |3.16   |\n",
    "| ABDE  | 3.16  | 0 |"
   ]
  },
  {
   "cell_type": "markdown",
   "metadata": {},
   "source": [
    "## Density-Based Clustering\n",
    "\n",
    "Follow along with the live coding of the DBScan algorithm."
   ]
  },
  {
   "cell_type": "code",
   "execution_count": null,
   "metadata": {},
   "outputs": [],
   "source": [
    "import numpy as np\n",
    "import matplotlib.pyplot as plt\n",
    "import sklearn.datasets as datasets\n",
    "\n",
    "centers = [[1, 1], [-1, -1], [1, -1]]\n",
    "X, _ = datasets.make_blobs(n_samples=750, centers=centers, cluster_std=0.4,\n",
    "                            random_state=0)\n",
    "plt.scatter(X[:,0],X[:,1],s=10, alpha=0.8)\n",
    "plt.show()\n",
    "\n",
    "class DBC():\n",
    "\n",
    "    def __init__(self, dataset, min_pts, epsilon):\n",
    "        self.dataset = dataset\n",
    "        self.min_pts = min_pts\n",
    "        self.epsilon = epsilon\n",
    "\n",
    "    def dbscan(self):\n",
    "        \"\"\"\n",
    "        returns a list of assignments. The index of the\n",
    "        assignment should match the index of the data point\n",
    "        in the dataset.\n",
    "        \"\"\"\n",
    "        return\n",
    "\n",
    "clustering = DBC(X, 3, .2).dbscan()\n",
    "colors = np.array([x for x in 'bgrcmykbgrcmykbgrcmykbgrcmyk'])\n",
    "colors = np.hstack([colors] * 20)\n",
    "plt.scatter(X[:, 0], X[:, 1], color=colors[clustering].tolist(), s=10, alpha=0.8)\n",
    "plt.show()"
   ]
  }
 ],
 "metadata": {
  "kernelspec": {
   "display_name": "base",
   "language": "python",
   "name": "python3"
  },
  "language_info": {
   "codemirror_mode": {
    "name": "ipython",
    "version": 3
   },
   "file_extension": ".py",
   "mimetype": "text/x-python",
   "name": "python",
   "nbconvert_exporter": "python",
   "pygments_lexer": "ipython3",
   "version": "3.11.7"
  },
  "orig_nbformat": 4
 },
 "nbformat": 4,
 "nbformat_minor": 2
}
