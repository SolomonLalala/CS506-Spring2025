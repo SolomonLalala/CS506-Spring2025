{
 "cells": [
  {
   "attachments": {},
   "cell_type": "markdown",
   "metadata": {},
   "source": [
    "# Worksheet 03"
   ]
  },
  {
   "cell_type": "markdown",
   "metadata": {},
   "source": [
    "### Distance & Similarity\n",
    "\n",
    "a) In the minkowski distance, describe what the parameters p and d are."
   ]
  },
  {
   "cell_type": "markdown",
   "metadata": {},
   "source": [
    "p: Defines the norm used for distance calculation.\n",
    "\n",
    "    p=1p=1 → Manhattan Distance (absolute differences)\n",
    "    p=2p=2 → Euclidean Distance (squared differences, then square root)\n",
    "    p>2p>2 → Higher norms penalize larger differences more.\n",
    "\n",
    "d: The number of dimensions (features) in the space."
   ]
  },
  {
   "cell_type": "markdown",
   "metadata": {},
   "source": [
    "b) In your own words describe the difference between the Euclidean distance and the Manhattan distance."
   ]
  },
  {
   "cell_type": "markdown",
   "metadata": {},
   "source": [
    "Euclidean Distance: Measures the straight-line distance (diagonal).\n",
    "Manhattan Distance: Measures distance in a grid-like manner (sum of absolute differences).\n",
    "Key Difference: Euclidean considers diagonals, Manhattan moves only in horizontal/vertical steps."
   ]
  },
  {
   "attachments": {},
   "cell_type": "markdown",
   "metadata": {},
   "source": [
    "Consider A = (0, 0) and B = (1, 1). When:\n",
    "\n",
    "- p = 1, d(A, B) = 2\n",
    "- p = 2, d(A, B) = $\\sqrt{2} = 1.41$\n",
    "- p = 3, d(A, B) = $2^{1/3} = 1.26$\n",
    "- p = 4, d(A, B) = $2^{1/4} = 1.19$\n",
    "\n",
    "c) Describe what you think distance would look like when p is very large."
   ]
  },
  {
   "cell_type": "markdown",
   "metadata": {},
   "source": [
    "What Happens When pp is Very Large?\n",
    "\n",
    "    As pp gets bigger, Minkowski Distance only cares about the biggest difference between any feature in the data.\n",
    "    Instead of adding up all the differences (like in Manhattan or Euclidean distance), it just looks at the largest difference and ignores the rest.\n",
    "\n",
    "Think of it Like This:\n",
    "\n",
    "Imagine you and your friend are comparing two gene expression values across multiple genes.\n",
    "\n",
    "    If you use Euclidean Distance (p=2p=2), you consider all differences together to measure similarity.\n",
    "    If you use Minkowski Distance with p=100p=100, you only care about the biggest difference between genes.\n",
    "\n",
    "Example (Gene Expression Data)\n",
    "Gene\tSample A\tSample B\tDifference\n",
    "Gene 1\t2.1\t2.3\t0.2\n",
    "Gene 2\t3.5\t3.8\t0.3\n",
    "Gene 3\t4.2\t10.0\t5.8\n",
    "\n",
    "    Euclidean Distance (p=2p=2) → Looks at all these differences together.\n",
    "    Minkowski Distance with Large pp → Only focuses on the largest difference (5.8 from Gene 3).\n",
    "\n",
    "Why is This Useful in Biology?\n",
    "\n",
    "    Gene Expression Studies: If a single gene has a huge change, this distance metric will highlight that gene, instead of averaging all changes.\n",
    "    Protein Structure Comparison: If a protein’s shape changes a lot at just one part, this method will detect it without getting distracted by small differences elsewhere.\n",
    "\n",
    "Key Takeaways\n",
    "\n",
    "    If p=1p=1 (Manhattan Distance) → Adds up all small changes.\n",
    "    If p=2p=2 (Euclidean Distance) → Finds an overall change.\n",
    "    If pp is very large → Only cares about the biggest change."
   ]
  },
  {
   "cell_type": "markdown",
   "metadata": {},
   "source": [
    "d) Is the minkowski distance still a distance function when p < 1? Expain why / why not."
   ]
  },
  {
   "cell_type": "markdown",
   "metadata": {},
   "source": [
    "No. The Minkowski distance is not a distance function when p < 1. The reason is that the triangle inequality is not satisfied. The triangle inequality states that the sum of the lengths of any two sides of a triangle must be greater than the length of the remaining side. When p < 1, the triangle inequality is violated, and the Minkowski distance is not a metric."
   ]
  },
  {
   "cell_type": "markdown",
   "metadata": {},
   "source": [
    "e) when would you use cosine similarity over the euclidan distance?"
   ]
  },
  {
   "cell_type": "markdown",
   "metadata": {},
   "source": [
    "Cosine similarity and Euclidean distance are used in bioinformatics and biomedical science for comparing gene expression, protein structures, and patient profiles. The choice depends on whether you care more about patterns (direction) or absolute differences (magnitude).\n",
    "Use Cosine Similarity When:\n",
    "\n",
    "✅ 1. Gene Expression Pattern Matching\n",
    "\n",
    "    Scenario: You want to compare gene expression trends across different samples, ignoring absolute expression levels.\n",
    "    Example:\n",
    "        Sample A: [10, 20, 30, 40]\n",
    "        Sample B: [100, 200, 300, 400]\n",
    "        These two samples follow the same trend but have different magnitudes.\n",
    "    Why Cosine Similarity?\n",
    "        It ignores the scale and only measures how similar the patterns are.\n",
    "        Euclidean distance would say they are very different because Sample B has higher absolute values.\n",
    "\n",
    "Use Euclidean Distance When:\n",
    "\n",
    "✅ 1. Comparing Absolute Differences in Gene Expression\n",
    "\n",
    "    Scenario: Identifying differentially expressed genes in RNA-seq data.\n",
    "    Why?\n",
    "        Euclidean distance considers absolute differences, helping detect genes with large expression changes between healthy and diseased states."
   ]
  },
  {
   "cell_type": "markdown",
   "metadata": {},
   "source": [
    "f) what does the jaccard distance account for that the manhattan distance doesn't?"
   ]
  },
  {
   "cell_type": "markdown",
   "metadata": {},
   "source": [
    ". Jaccard Distance – Focus on Shared Features\n",
    "\n",
    "    What it measures: The percentage of unique features that two samples do NOT share.\n",
    "    Works best for: Binary or categorical data, where features represent presence (1) or absence (0).\n",
    "    Ignores: Features that are absent in both samples.\n",
    "\n",
    " Use Jaccard Distance When:\n",
    "\n",
    "    Comparing the presence or absence of biological traits.\n",
    "    Comparing microbial communities by checking which species exist.\n",
    "\n",
    " Example 1: Microbiome Analysis (Jaccard Distance)\n",
    "\n",
    "    Suppose you are comparing the gut microbiome of two patients.\n",
    "    You create a binary matrix where 1 = species is present, and 0 = species is absent.\n",
    "    Jaccard Distance will ignore species that are missing from both patients and only compare the ones present.\n",
    "\n",
    "Species\tPatient A\tPatient B\n",
    "Bacteria X\t1\t1\n",
    "Bacteria Y\t1\t0\n",
    "Bacteria Z\t0\t1\n",
    "\n",
    "    Jaccard Similarity = 1 shared species / 3 total species = 0.33\n",
    "    Jaccard Distance = 1 - 0.33 = 0.67 (higher distance = more dissimilarity).\n",
    "\n",
    "Manhattan Distance – Focus on Total Differences\n",
    "\n",
    "    What it measures: The total absolute difference between two samples.\n",
    "    Works best for: Continuous or ordinal data, where differences in magnitude are important.\n",
    "    Considers: Every feature, even if it’s zero in both samples.\n",
    "\n"
   ]
  }
 ],
 "metadata": {
  "kernelspec": {
   "display_name": "Python 3",
   "language": "python",
   "name": "python3"
  },
  "language_info": {
   "codemirror_mode": {
    "name": "ipython",
    "version": 3
   },
   "file_extension": ".py",
   "mimetype": "text/x-python",
   "name": "python",
   "nbconvert_exporter": "python",
   "pygments_lexer": "ipython3",
   "version": "3.11.1"
  },
  "orig_nbformat": 4,
  "vscode": {
   "interpreter": {
    "hash": "76ca05dc3ea24b2e3b98cdb7774adfbb40773424bf5109b477fd793f623715af"
   }
  }
 },
 "nbformat": 4,
 "nbformat_minor": 2
}
